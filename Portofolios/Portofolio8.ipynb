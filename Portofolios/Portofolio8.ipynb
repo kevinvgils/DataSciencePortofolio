{
 "cells": [
  {
   "cell_type": "code",
   "execution_count": 1,
   "id": "9d26fdc2",
   "metadata": {},
   "outputs": [],
   "source": [
    "import pandas as pd\n",
    "import scipy.stats as st\n",
    "digimon = pd.read_csv('Portofolio4/DigiDB_digimonlist.csv')"
   ]
  },
  {
   "cell_type": "code",
   "execution_count": 2,
   "id": "a2fc432d",
   "metadata": {},
   "outputs": [
    {
     "data": {
      "text/plain": [
       "(1176.7637008529607, 1245.0033674201316)"
      ]
     },
     "execution_count": 2,
     "metadata": {},
     "output_type": "execute_result"
    }
   ],
   "source": [
    "confidence = 0.90\n",
    "st.t.interval(confidence, len(digimon)-1, loc=digimon['Lv 50 HP'].mean(), scale=st.sem(digimon['Lv 50 HP']))"
   ]
  },
  {
   "cell_type": "code",
   "execution_count": 3,
   "id": "40a4998f",
   "metadata": {},
   "outputs": [
    {
     "data": {
      "text/plain": [
       "(1170.180482870207, 1251.5865854028852)"
      ]
     },
     "execution_count": 3,
     "metadata": {},
     "output_type": "execute_result"
    }
   ],
   "source": [
    "st.t.interval(0.95, len(digimon)-1, loc=digimon['Lv 50 HP'].mean(), scale=st.sem(digimon['Lv 50 HP']))"
   ]
  },
  {
   "cell_type": "code",
   "execution_count": 4,
   "id": "d9c6e60a",
   "metadata": {},
   "outputs": [
    {
     "data": {
      "text/plain": [
       "(1157.2390240958546, 1264.5280441772377)"
      ]
     },
     "execution_count": 4,
     "metadata": {},
     "output_type": "execute_result"
    }
   ],
   "source": [
    "st.t.interval(0.99, len(digimon)-1, loc=digimon['Lv 50 HP'].mean(), scale=st.sem(digimon['Lv 50 HP']))"
   ]
  },
  {
   "cell_type": "code",
   "execution_count": 5,
   "id": "6d92140e",
   "metadata": {},
   "outputs": [
    {
     "data": {
      "text/plain": [
       "(119.74286104214205, 129.2932835361712)"
      ]
     },
     "execution_count": 5,
     "metadata": {},
     "output_type": "execute_result"
    }
   ],
   "source": [
    "st.t.interval(confidence, len(digimon)-1, loc=digimon['Lv50 Atk'].mean(), scale=st.sem(digimon['Lv50 Atk']))"
   ]
  },
  {
   "cell_type": "code",
   "execution_count": 6,
   "id": "6e308833",
   "metadata": {},
   "outputs": [
    {
     "data": {
      "text/plain": [
       "(118.82151256158198, 130.21463201673126)"
      ]
     },
     "execution_count": 6,
     "metadata": {},
     "output_type": "execute_result"
    }
   ],
   "source": [
    "st.t.interval(0.95, len(digimon)-1, loc=digimon['Lv50 Atk'].mean(), scale=st.sem(digimon['Lv50 Atk']))"
   ]
  },
  {
   "cell_type": "code",
   "execution_count": 7,
   "id": "08aa5940",
   "metadata": {},
   "outputs": [
    {
     "data": {
      "text/plain": [
       "(117.01030208530474, 132.0258424930085)"
      ]
     },
     "execution_count": 7,
     "metadata": {},
     "output_type": "execute_result"
    }
   ],
   "source": [
    "st.t.interval(0.99, len(digimon)-1, loc=digimon['Lv50 Atk'].mean(), scale=st.sem(digimon['Lv50 Atk']))"
   ]
  },
  {
   "cell_type": "markdown",
   "id": "98891c18",
   "metadata": {},
   "source": [
    "### Des te groter de confidence des te breder de getallen uit elkaar liggen. Dit komt omdat die meer zeker moet zijn dat de mean Lvl 50 Attack er tussen moet zitten"
   ]
  },
  {
   "cell_type": "code",
   "execution_count": 8,
   "id": "71af9f76",
   "metadata": {},
   "outputs": [
    {
     "data": {
      "text/plain": [
       "(76.1829128090512, 95.40042052428214)"
      ]
     },
     "execution_count": 8,
     "metadata": {},
     "output_type": "execute_result"
    }
   ],
   "source": [
    "n = int(0.1 * len(digimon['Lv50 Atk']))\n",
    "st.t.interval(0.95, len(digimon)-1, loc=digimon[:n]['Lv50 Atk'].mean(), scale=st.sem(digimon[:n]['Lv50 Atk']))"
   ]
  },
  {
   "cell_type": "markdown",
   "id": "6c8ee583",
   "metadata": {},
   "source": [
    "### Minder data betekent een lagere confidence interval op mijn dataset. Dit komt omdat de eerste 10% van rows in mijn dataset van digimons zijn van een lagere evolutie dus zijn de stats van de mons ook lager."
   ]
  },
  {
   "cell_type": "code",
   "execution_count": null,
   "id": "c93fc751",
   "metadata": {},
   "outputs": [],
   "source": []
  }
 ],
 "metadata": {
  "kernelspec": {
   "display_name": "Python 3 (ipykernel)",
   "language": "python",
   "name": "python3"
  },
  "language_info": {
   "codemirror_mode": {
    "name": "ipython",
    "version": 3
   },
   "file_extension": ".py",
   "mimetype": "text/x-python",
   "name": "python",
   "nbconvert_exporter": "python",
   "pygments_lexer": "ipython3",
   "version": "3.9.13"
  }
 },
 "nbformat": 4,
 "nbformat_minor": 5
}
