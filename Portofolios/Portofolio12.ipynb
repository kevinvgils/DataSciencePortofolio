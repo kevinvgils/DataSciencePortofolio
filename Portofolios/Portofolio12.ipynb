{
 "cells": [
  {
   "cell_type": "code",
   "execution_count": 1,
   "id": "258186ee",
   "metadata": {},
   "outputs": [],
   "source": [
    "import pandas as pd\n",
    "import seaborn as sns\n",
    "digimon = pd.read_csv('Portofolio4/DigiDB_digimonlist.csv')"
   ]
  },
  {
   "cell_type": "code",
   "execution_count": 2,
   "id": "d31f10d4",
   "metadata": {},
   "outputs": [
    {
     "data": {
      "text/html": [
       "<div>\n",
       "<style scoped>\n",
       "    .dataframe tbody tr th:only-of-type {\n",
       "        vertical-align: middle;\n",
       "    }\n",
       "\n",
       "    .dataframe tbody tr th {\n",
       "        vertical-align: top;\n",
       "    }\n",
       "\n",
       "    .dataframe thead th {\n",
       "        text-align: right;\n",
       "    }\n",
       "</style>\n",
       "<table border=\"1\" class=\"dataframe\">\n",
       "  <thead>\n",
       "    <tr style=\"text-align: right;\">\n",
       "      <th></th>\n",
       "      <th>Number</th>\n",
       "      <th>Digimon</th>\n",
       "      <th>Stage</th>\n",
       "      <th>Type</th>\n",
       "      <th>Attribute</th>\n",
       "      <th>Memory</th>\n",
       "      <th>Equip Slots</th>\n",
       "      <th>Lv 50 HP</th>\n",
       "      <th>Lv50 SP</th>\n",
       "      <th>Lv50 Atk</th>\n",
       "      <th>Lv50 Def</th>\n",
       "      <th>Lv50 Int</th>\n",
       "      <th>Lv50 Spd</th>\n",
       "    </tr>\n",
       "  </thead>\n",
       "  <tbody>\n",
       "    <tr>\n",
       "      <th>0</th>\n",
       "      <td>1</td>\n",
       "      <td>Kuramon</td>\n",
       "      <td>Baby</td>\n",
       "      <td>Free</td>\n",
       "      <td>Neutral</td>\n",
       "      <td>2</td>\n",
       "      <td>0</td>\n",
       "      <td>590</td>\n",
       "      <td>77</td>\n",
       "      <td>79</td>\n",
       "      <td>69</td>\n",
       "      <td>68</td>\n",
       "      <td>95</td>\n",
       "    </tr>\n",
       "    <tr>\n",
       "      <th>1</th>\n",
       "      <td>2</td>\n",
       "      <td>Pabumon</td>\n",
       "      <td>Baby</td>\n",
       "      <td>Free</td>\n",
       "      <td>Neutral</td>\n",
       "      <td>2</td>\n",
       "      <td>0</td>\n",
       "      <td>950</td>\n",
       "      <td>62</td>\n",
       "      <td>76</td>\n",
       "      <td>76</td>\n",
       "      <td>69</td>\n",
       "      <td>68</td>\n",
       "    </tr>\n",
       "    <tr>\n",
       "      <th>2</th>\n",
       "      <td>3</td>\n",
       "      <td>Punimon</td>\n",
       "      <td>Baby</td>\n",
       "      <td>Free</td>\n",
       "      <td>Neutral</td>\n",
       "      <td>2</td>\n",
       "      <td>0</td>\n",
       "      <td>870</td>\n",
       "      <td>50</td>\n",
       "      <td>97</td>\n",
       "      <td>87</td>\n",
       "      <td>50</td>\n",
       "      <td>75</td>\n",
       "    </tr>\n",
       "    <tr>\n",
       "      <th>3</th>\n",
       "      <td>4</td>\n",
       "      <td>Botamon</td>\n",
       "      <td>Baby</td>\n",
       "      <td>Free</td>\n",
       "      <td>Neutral</td>\n",
       "      <td>2</td>\n",
       "      <td>0</td>\n",
       "      <td>690</td>\n",
       "      <td>68</td>\n",
       "      <td>77</td>\n",
       "      <td>95</td>\n",
       "      <td>76</td>\n",
       "      <td>61</td>\n",
       "    </tr>\n",
       "    <tr>\n",
       "      <th>4</th>\n",
       "      <td>5</td>\n",
       "      <td>Poyomon</td>\n",
       "      <td>Baby</td>\n",
       "      <td>Free</td>\n",
       "      <td>Neutral</td>\n",
       "      <td>2</td>\n",
       "      <td>0</td>\n",
       "      <td>540</td>\n",
       "      <td>98</td>\n",
       "      <td>54</td>\n",
       "      <td>59</td>\n",
       "      <td>95</td>\n",
       "      <td>86</td>\n",
       "    </tr>\n",
       "  </tbody>\n",
       "</table>\n",
       "</div>"
      ],
      "text/plain": [
       "   Number  Digimon Stage  Type Attribute  Memory  Equip Slots  Lv 50 HP  \\\n",
       "0       1  Kuramon  Baby  Free   Neutral       2            0       590   \n",
       "1       2  Pabumon  Baby  Free   Neutral       2            0       950   \n",
       "2       3  Punimon  Baby  Free   Neutral       2            0       870   \n",
       "3       4  Botamon  Baby  Free   Neutral       2            0       690   \n",
       "4       5  Poyomon  Baby  Free   Neutral       2            0       540   \n",
       "\n",
       "   Lv50 SP  Lv50 Atk  Lv50 Def  Lv50 Int  Lv50 Spd  \n",
       "0       77        79        69        68        95  \n",
       "1       62        76        76        69        68  \n",
       "2       50        97        87        50        75  \n",
       "3       68        77        95        76        61  \n",
       "4       98        54        59        95        86  "
      ]
     },
     "execution_count": 2,
     "metadata": {},
     "output_type": "execute_result"
    }
   ],
   "source": [
    "digimon.head()"
   ]
  },
  {
   "cell_type": "code",
   "execution_count": 3,
   "id": "722524a6",
   "metadata": {},
   "outputs": [
    {
     "data": {
      "text/html": [
       "<div>\n",
       "<style scoped>\n",
       "    .dataframe tbody tr th:only-of-type {\n",
       "        vertical-align: middle;\n",
       "    }\n",
       "\n",
       "    .dataframe tbody tr th {\n",
       "        vertical-align: top;\n",
       "    }\n",
       "\n",
       "    .dataframe thead th {\n",
       "        text-align: right;\n",
       "    }\n",
       "</style>\n",
       "<table border=\"1\" class=\"dataframe\">\n",
       "  <thead>\n",
       "    <tr style=\"text-align: right;\">\n",
       "      <th></th>\n",
       "      <th>Number</th>\n",
       "      <th>Memory</th>\n",
       "      <th>Equip Slots</th>\n",
       "      <th>Lv 50 HP</th>\n",
       "      <th>Lv50 SP</th>\n",
       "      <th>Lv50 Atk</th>\n",
       "      <th>Lv50 Def</th>\n",
       "      <th>Lv50 Int</th>\n",
       "      <th>Lv50 Spd</th>\n",
       "    </tr>\n",
       "    <tr>\n",
       "      <th>Stage</th>\n",
       "      <th></th>\n",
       "      <th></th>\n",
       "      <th></th>\n",
       "      <th></th>\n",
       "      <th></th>\n",
       "      <th></th>\n",
       "      <th></th>\n",
       "      <th></th>\n",
       "      <th></th>\n",
       "    </tr>\n",
       "  </thead>\n",
       "  <tbody>\n",
       "    <tr>\n",
       "      <th>Armor</th>\n",
       "      <td>239.000000</td>\n",
       "      <td>16.000000</td>\n",
       "      <td>2.666667</td>\n",
       "      <td>1170.000000</td>\n",
       "      <td>110.333333</td>\n",
       "      <td>148.333333</td>\n",
       "      <td>161.666667</td>\n",
       "      <td>131.666667</td>\n",
       "      <td>128.666667</td>\n",
       "    </tr>\n",
       "    <tr>\n",
       "      <th>Baby</th>\n",
       "      <td>3.000000</td>\n",
       "      <td>2.000000</td>\n",
       "      <td>0.000000</td>\n",
       "      <td>728.000000</td>\n",
       "      <td>71.000000</td>\n",
       "      <td>76.600000</td>\n",
       "      <td>77.200000</td>\n",
       "      <td>71.600000</td>\n",
       "      <td>77.000000</td>\n",
       "    </tr>\n",
       "    <tr>\n",
       "      <th>Champion</th>\n",
       "      <td>81.500000</td>\n",
       "      <td>7.037037</td>\n",
       "      <td>1.481481</td>\n",
       "      <td>1087.037037</td>\n",
       "      <td>97.703704</td>\n",
       "      <td>108.166667</td>\n",
       "      <td>104.703704</td>\n",
       "      <td>95.685185</td>\n",
       "      <td>103.259259</td>\n",
       "    </tr>\n",
       "    <tr>\n",
       "      <th>In-Training</th>\n",
       "      <td>11.000000</td>\n",
       "      <td>3.000000</td>\n",
       "      <td>0.000000</td>\n",
       "      <td>844.545455</td>\n",
       "      <td>75.636364</td>\n",
       "      <td>81.454545</td>\n",
       "      <td>76.727273</td>\n",
       "      <td>76.636364</td>\n",
       "      <td>81.181818</td>\n",
       "    </tr>\n",
       "    <tr>\n",
       "      <th>Mega</th>\n",
       "      <td>204.432432</td>\n",
       "      <td>19.648649</td>\n",
       "      <td>2.135135</td>\n",
       "      <td>1455.405405</td>\n",
       "      <td>135.229730</td>\n",
       "      <td>152.621622</td>\n",
       "      <td>137.878378</td>\n",
       "      <td>140.702703</td>\n",
       "      <td>152.486486</td>\n",
       "    </tr>\n",
       "    <tr>\n",
       "      <th>Rookie</th>\n",
       "      <td>35.500000</td>\n",
       "      <td>4.736842</td>\n",
       "      <td>1.000000</td>\n",
       "      <td>920.526316</td>\n",
       "      <td>85.184211</td>\n",
       "      <td>91.789474</td>\n",
       "      <td>87.236842</td>\n",
       "      <td>83.842105</td>\n",
       "      <td>90.236842</td>\n",
       "    </tr>\n",
       "    <tr>\n",
       "      <th>Ultimate</th>\n",
       "      <td>137.500000</td>\n",
       "      <td>12.586207</td>\n",
       "      <td>1.775862</td>\n",
       "      <td>1286.896552</td>\n",
       "      <td>112.241379</td>\n",
       "      <td>129.120690</td>\n",
       "      <td>123.965517</td>\n",
       "      <td>117.396552</td>\n",
       "      <td>122.586207</td>\n",
       "    </tr>\n",
       "    <tr>\n",
       "      <th>Ultra</th>\n",
       "      <td>236.500000</td>\n",
       "      <td>25.000000</td>\n",
       "      <td>0.833333</td>\n",
       "      <td>1508.333333</td>\n",
       "      <td>131.166667</td>\n",
       "      <td>194.833333</td>\n",
       "      <td>150.166667</td>\n",
       "      <td>146.166667</td>\n",
       "      <td>152.833333</td>\n",
       "    </tr>\n",
       "  </tbody>\n",
       "</table>\n",
       "</div>"
      ],
      "text/plain": [
       "                 Number     Memory  Equip Slots     Lv 50 HP     Lv50 SP  \\\n",
       "Stage                                                                      \n",
       "Armor        239.000000  16.000000     2.666667  1170.000000  110.333333   \n",
       "Baby           3.000000   2.000000     0.000000   728.000000   71.000000   \n",
       "Champion      81.500000   7.037037     1.481481  1087.037037   97.703704   \n",
       "In-Training   11.000000   3.000000     0.000000   844.545455   75.636364   \n",
       "Mega         204.432432  19.648649     2.135135  1455.405405  135.229730   \n",
       "Rookie        35.500000   4.736842     1.000000   920.526316   85.184211   \n",
       "Ultimate     137.500000  12.586207     1.775862  1286.896552  112.241379   \n",
       "Ultra        236.500000  25.000000     0.833333  1508.333333  131.166667   \n",
       "\n",
       "               Lv50 Atk    Lv50 Def    Lv50 Int    Lv50 Spd  \n",
       "Stage                                                        \n",
       "Armor        148.333333  161.666667  131.666667  128.666667  \n",
       "Baby          76.600000   77.200000   71.600000   77.000000  \n",
       "Champion     108.166667  104.703704   95.685185  103.259259  \n",
       "In-Training   81.454545   76.727273   76.636364   81.181818  \n",
       "Mega         152.621622  137.878378  140.702703  152.486486  \n",
       "Rookie        91.789474   87.236842   83.842105   90.236842  \n",
       "Ultimate     129.120690  123.965517  117.396552  122.586207  \n",
       "Ultra        194.833333  150.166667  146.166667  152.833333  "
      ]
     },
     "execution_count": 3,
     "metadata": {},
     "output_type": "execute_result"
    }
   ],
   "source": [
    "digimon.groupby(\"Stage\").mean()"
   ]
  },
  {
   "cell_type": "code",
   "execution_count": 4,
   "id": "130e22aa",
   "metadata": {},
   "outputs": [
    {
     "data": {
      "text/plain": [
       "<AxesSubplot:xlabel='Stage', ylabel='Lv 50 HP'>"
      ]
     },
     "execution_count": 4,
     "metadata": {},
     "output_type": "execute_result"
    },
    {
     "data": {
      "image/png": "[encoded data removed]",
      "text/plain": [
       "<Figure size 640x480 with 1 Axes>"
      ]
     },
     "metadata": {},
     "output_type": "display_data"
    }
   ],
   "source": [
    "sns.barplot(y=\"Lv 50 HP\", x=\"Stage\", data=digimon) "
   ]
  },
  {
   "cell_type": "code",
   "execution_count": 5,
   "id": "c5420da1",
   "metadata": {},
   "outputs": [
    {
     "data": {
      "text/plain": [
       "<AxesSubplot:xlabel='Stage', ylabel='Lv50 Atk'>"
      ]
     },
     "execution_count": 5,
     "metadata": {},
     "output_type": "execute_result"
    },
    {
     "data": {
      "image/png": "[encoded data removed]",
      "text/plain": [
       "<Figure size 640x480 with 1 Axes>"
      ]
     },
     "metadata": {},
     "output_type": "display_data"
    }
   ],
   "source": [
    "sns.barplot(y=\"Lv50 Atk\", x=\"Stage\", data=digimon)"
   ]
  },
  {
   "cell_type": "code",
   "execution_count": 6,
   "id": "adfef4bb",
   "metadata": {},
   "outputs": [
    {
     "data": {
      "text/plain": [
       "<AxesSubplot:xlabel='Stage', ylabel='Lv50 Def'>"
      ]
     },
     "execution_count": 6,
     "metadata": {},
     "output_type": "execute_result"
    },
    {
     "data": {
      "image/png": "[encoded data removed]",
      "text/plain": [
       "<Figure size 640x480 with 1 Axes>"
      ]
     },
     "metadata": {},
     "output_type": "display_data"
    }
   ],
   "source": [
    "sns.barplot(y=\"Lv50 Def\", x=\"Stage\", data=digimon) "
   ]
  },
  {
   "cell_type": "markdown",
   "id": "ffde4c77",
   "metadata": {},
   "source": [
    "### Hoe hoger de stage oftwel evolutie hoe hoger de evolutie des te hoger de stats. Armor is een specifieke Evolutie stage.\n",
    "### Zoals te zien verhoogt de Armor evolutie stage de defense heel erg."
   ]
  },
  {
   "cell_type": "code",
   "execution_count": null,
   "id": "ca34ea47",
   "metadata": {},
   "outputs": [],
   "source": []
  }
 ],
 "metadata": {
  "kernelspec": {
   "display_name": "Python 3 (ipykernel)",
   "language": "python",
   "name": "python3"
  },
  "language_info": {
   "codemirror_mode": {
    "name": "ipython",
    "version": 3
   },
   "file_extension": ".py",
   "mimetype": "text/x-python",
   "name": "python",
   "nbconvert_exporter": "python",
   "pygments_lexer": "ipython3",
   "version": "3.9.13"
  }
 },
 "nbformat": 4,
 "nbformat_minor": 5
}
